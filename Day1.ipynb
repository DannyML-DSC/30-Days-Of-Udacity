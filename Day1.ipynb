{
  "nbformat": 4,
  "nbformat_minor": 0,
  "metadata": {
    "colab": {
      "name": "Day1.ipynb",
      "provenance": [],
      "authorship_tag": "ABX9TyMYOVnKkKISDGZDwBTb0Ill",
      "include_colab_link": true
    },
    "kernelspec": {
      "name": "python3",
      "display_name": "Python 3"
    }
  },
  "cells": [
    {
      "cell_type": "markdown",
      "metadata": {
        "id": "view-in-github",
        "colab_type": "text"
      },
      "source": [
        "<a href=\"https://colab.research.google.com/github/DannyML-DSC/30-Days-Of-Udacity/blob/master/Day1.ipynb\" target=\"_parent\"><img src=\"https://colab.research.google.com/assets/colab-badge.svg\" alt=\"Open In Colab\"/></a>"
      ]
    },
    {
      "cell_type": "code",
      "metadata": {
        "id": "TuiHklujzLjr",
        "colab_type": "code",
        "colab": {
          "base_uri": "https://localhost:8080/",
          "height": 377
        },
        "outputId": "d62d6c48-63be-4e2f-f72a-216da65b9fab"
      },
      "source": [
        "#authenticatiopn script in gcp\n",
        "!apt-get install -y -qq software-properties-common python-software-properties module-init-tools\n",
        "\n",
        "!apt-get install software-properties-common\n",
        "\n",
        "!apt-get install -y -qq software-properties-common module-init-tools\n",
        "\n",
        "!apt-get install -y -qq python-software-properties module-init-tools\n",
        "\n",
        "!add-apt-repository -y ppa:alessandro-strada/ppa 2>&1 > /dev/null\n",
        "\n",
        "!apt-get update -qq 2>&1 > /dev/null\n",
        "!apt-get -y install -qq google-drive-ocamlfuse fuse\n",
        "from google.colab import auth\n",
        "auth.authenticate_user()\n",
        "from oauth2client.client import GoogleCredentials\n",
        "creds = GoogleCredentials.get_application_default()\n",
        "import getpass\n",
        "!google-drive-ocamlfuse -headless -id={creds.client_id} -secret={creds.client_secret} < /dev/null 2>&1 | grep URL\n",
        "vcode = getpass.getpass()\n",
        "!echo {vcode} | google-drive-ocamlfuse -headless -id={creds.client_id} -secret={creds.client_secret}\n",
        "\n",
        "\n",
        "\n"
      ],
      "execution_count": 1,
      "outputs": [
        {
          "output_type": "stream",
          "text": [
            "E: Package 'python-software-properties' has no installation candidate\n",
            "Reading package lists... Done\n",
            "Building dependency tree       \n",
            "Reading state information... Done\n",
            "software-properties-common is already the newest version (0.96.24.32.11).\n",
            "The following package was automatically installed and is no longer required:\n",
            "  libnvidia-common-430\n",
            "Use 'apt autoremove' to remove it.\n",
            "0 upgraded, 0 newly installed, 0 to remove and 7 not upgraded.\n",
            "E: Package 'python-software-properties' has no installation candidate\n",
            "Selecting previously unselected package google-drive-ocamlfuse.\n",
            "(Reading database ... 135004 files and directories currently installed.)\n",
            "Preparing to unpack .../google-drive-ocamlfuse_0.7.17-0ubuntu1~ubuntu18.04.1_amd64.deb ...\n",
            "Unpacking google-drive-ocamlfuse (0.7.17-0ubuntu1~ubuntu18.04.1) ...\n",
            "Setting up google-drive-ocamlfuse (0.7.17-0ubuntu1~ubuntu18.04.1) ...\n",
            "Processing triggers for man-db (2.8.3-2ubuntu0.1) ...\n",
            "Please, open the following URL in a web browser: https://accounts.google.com/o/oauth2/auth?client_id=32555940559.apps.googleusercontent.com&redirect_uri=urn%3Aietf%3Awg%3Aoauth%3A2.0%3Aoob&scope=https%3A%2F%2Fwww.googleapis.com%2Fauth%2Fdrive&response_type=code&access_type=offline&approval_prompt=force\n",
            "··········\n",
            "Please, open the following URL in a web browser: https://accounts.google.com/o/oauth2/auth?client_id=32555940559.apps.googleusercontent.com&redirect_uri=urn%3Aietf%3Awg%3Aoauth%3A2.0%3Aoob&scope=https%3A%2F%2Fwww.googleapis.com%2Fauth%2Fdrive&response_type=code&access_type=offline&approval_prompt=force\n",
            "Please enter the verification code: Access token retrieved correctly.\n"
          ],
          "name": "stdout"
        }
      ]
    },
    {
      "cell_type": "code",
      "metadata": {
        "id": "3go9n3JVzknk",
        "colab_type": "code",
        "colab": {}
      },
      "source": [
        "import cv2\n",
        "import numpy as np\n",
        "\n",
        "\n",
        "\n",
        "def pose_estimation(input_image):\n",
        "    '''\n",
        "    Given some input image, preprocess the image so that\n",
        "    it can be used with the related pose estimation model\n",
        "    you downloaded previously. You can use cv2.resize()\n",
        "    to resize the image.\n",
        "    '''\n",
        "    preprocessed_image = np.copy(input_image)\n",
        "    preprocessed_image = cv2.resize(preprocessed_image, (456,256))\n",
        "    preprocessed_image = preprocessed_image.transpose((2,0,1))\n",
        "    preprocessed_image = preprocessed_image.reshape(1,3,256,456)\n",
        "     \n",
        "\n",
        "     \n",
        "\n",
        "    return preprocessed_image\n",
        "\n",
        "\n",
        "def text_detection(input_image):\n",
        "    '''\n",
        "    Given some input image, preprocess the image so that\n",
        "    it can be used with the related text detection model\n",
        "    you downloaded previously. You can use cv2.resize()\n",
        "    to resize the image.\n",
        "    '''\n",
        "    preprocessed_image = np.copy(input_image)\n",
        "    preprocessed_image = cv2.resize(preprocessed_image, (1280,768))\n",
        "    preprocessed_image = preprocessed_image.transpose((2,0,1))\n",
        "    preprocessed_image = preprocessed_image.reshape(1,3,768,1280)\n",
        "\n",
        "    # TODO: Preprocess the image for the text detection model\n",
        "\n",
        "    return preprocessed_image\n",
        "\n",
        "\n",
        "def car_meta(input_image):\n",
        "    '''\n",
        "    Given some input image, preprocess the image so that\n",
        "    it can be used with the related car metadata model\n",
        "    you downloaded previously. You can use cv2.resize()\n",
        "    to resize the image.\n",
        "    '''\n",
        "    preprocessed_image = np.copy(input_image)\n",
        "    preprocessed_image = cv2.resize(preprocessed_image, (72,72))\n",
        "    preprocessed_image = preprocessed_image.transpose((2,0,1))\n",
        "    preprocessed_image = preprocessed_image.reshape(1,3,72,72)\n",
        "\n",
        "    # TODO: Preprocess the image for the car metadata model\n",
        "\n",
        "    return preprocessed_image"
      ],
      "execution_count": 0,
      "outputs": []
    }
  ]
}